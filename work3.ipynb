{
  "nbformat": 4,
  "nbformat_minor": 0,
  "metadata": {
    "colab": {
      "provenance": [],
      "authorship_tag": "ABX9TyNfaNfrPcRIFl582+IrErNj",
      "include_colab_link": true
    },
    "kernelspec": {
      "name": "python3",
      "display_name": "Python 3"
    },
    "language_info": {
      "name": "python"
    }
  },
  "cells": [
    {
      "cell_type": "markdown",
      "metadata": {
        "id": "view-in-github",
        "colab_type": "text"
      },
      "source": [
        "<a href=\"https://colab.research.google.com/github/herb171/Prog2kakushin/blob/main/work3.ipynb\" target=\"_parent\"><img src=\"https://colab.research.google.com/assets/colab-badge.svg\" alt=\"Open In Colab\"/></a>"
      ]
    },
    {
      "cell_type": "markdown",
      "source": [
        "#シルエットクイズ"
      ],
      "metadata": {
        "id": "X8ZhsdLvhsV1"
      }
    },
    {
      "cell_type": "markdown",
      "source": [
        "画像取得のため、まず以下のプログラムを実行してください。"
      ],
      "metadata": {
        "id": "IIK8DhMchvpG"
      }
    },
    {
      "cell_type": "code",
      "source": [
        "#画像取得\n",
        "!wget \"https://1.bp.blogspot.com/-nMTqgygyczs/VqtZItHn2_I/AAAAAAAA3ZY/5ZfrZPuZzbY/s800/bird_aoitori_bluebird.png\"\n"
      ],
      "metadata": {
        "id": "-IYVMp1twILr"
      },
      "execution_count": null,
      "outputs": []
    },
    {
      "cell_type": "code",
      "source": [
        "#シルエットクイズ\n",
        "\n",
        "import numpy as np\n",
        "import cv2, sys\n",
        "from google.colab.patches import cv2_imshow\n",
        "\n",
        "print('シルエットクイズ')\n",
        "\n",
        "#元画像ファイルをimgに\n",
        "img = cv2.imread('bird_aoitori_bluebird.png')\n",
        "\n",
        "#エラー処理\n",
        "if img is None:\n",
        "  sys.exit('Error')\n",
        "\n",
        "h = img.shape[0] #元画像の高さ\n",
        "w = img.shape[1] #元画像の幅\n",
        "\n",
        "\n",
        "\n",
        "#画素を順番に走査し、色がある部分を白に\n",
        "for iy in range(h):\n",
        "  for ix in range(w):\n",
        "    if img[iy, ix][0] == 0 and img[iy, ix][1] == 0 and img[iy, ix][2] ==0:\n",
        "      pass\n",
        "    else:\n",
        "      img[iy, ix] = 255\n",
        "\n",
        "cv2_imshow(img)\n",
        "\n",
        "answer = str(input('この動物は何？:'))\n",
        "\n",
        "if answer == '鳥' or answer == 'とり' or answer == 'bird':\n",
        "  print('正解！')\n",
        "\n",
        "else:\n",
        "  print('残念！正解は鳥でした')\n"
      ],
      "metadata": {
        "id": "rdjcGZuphuOI"
      },
      "execution_count": null,
      "outputs": []
    }
  ]
}